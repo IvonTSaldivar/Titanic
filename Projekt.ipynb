{
  "nbformat": 4,
  "nbformat_minor": 0,
  "metadata": {
    "colab": {
      "name": "Projekt.ipynb",
      "provenance": [],
      "collapsed_sections": []
    },
    "kernelspec": {
      "name": "python3",
      "display_name": "Python 3"
    }
  },
  "cells": [
    {
      "cell_type": "markdown",
      "metadata": {
        "id": "2LLd9fMZQts-"
      },
      "source": [
        "Ivon Saldivar  \n",
        "A02064927"
      ]
    },
    {
      "cell_type": "code",
      "metadata": {
        "id": "FHj8hfgrPOB6"
      },
      "source": [
        "%matplotlib inline\n",
        "import numpy as np\n",
        "import pandas as pd\n",
        "from sklearn import preprocessing\n",
        "import matplotlib.pyplot as plt\n"
      ],
      "execution_count": 1,
      "outputs": []
    },
    {
      "cell_type": "code",
      "metadata": {
        "colab": {
          "base_uri": "https://localhost:8080/",
          "height": 206
        },
        "id": "7pFC36TWQ6-R",
        "outputId": "5ddfcf94-bcf6-4e41-e016-82d9d785b3a2"
      },
      "source": [
        "train_data = pd.read_csv('train.csv')\n",
        "test_data = pd.read_csv('test.csv')\n",
        "\n",
        "test_data.head()"
      ],
      "execution_count": 2,
      "outputs": [
        {
          "output_type": "execute_result",
          "data": {
            "text/html": [
              "<div>\n",
              "<style scoped>\n",
              "    .dataframe tbody tr th:only-of-type {\n",
              "        vertical-align: middle;\n",
              "    }\n",
              "\n",
              "    .dataframe tbody tr th {\n",
              "        vertical-align: top;\n",
              "    }\n",
              "\n",
              "    .dataframe thead th {\n",
              "        text-align: right;\n",
              "    }\n",
              "</style>\n",
              "<table border=\"1\" class=\"dataframe\">\n",
              "  <thead>\n",
              "    <tr style=\"text-align: right;\">\n",
              "      <th></th>\n",
              "      <th>PassengerId</th>\n",
              "      <th>Pclass</th>\n",
              "      <th>Name</th>\n",
              "      <th>Sex</th>\n",
              "      <th>Age</th>\n",
              "      <th>SibSp</th>\n",
              "      <th>Parch</th>\n",
              "      <th>Ticket</th>\n",
              "      <th>Fare</th>\n",
              "      <th>Cabin</th>\n",
              "      <th>Embarked</th>\n",
              "    </tr>\n",
              "  </thead>\n",
              "  <tbody>\n",
              "    <tr>\n",
              "      <th>0</th>\n",
              "      <td>892</td>\n",
              "      <td>3</td>\n",
              "      <td>Kelly, Mr. James</td>\n",
              "      <td>male</td>\n",
              "      <td>34.5</td>\n",
              "      <td>0</td>\n",
              "      <td>0</td>\n",
              "      <td>330911</td>\n",
              "      <td>7.8292</td>\n",
              "      <td>NaN</td>\n",
              "      <td>Q</td>\n",
              "    </tr>\n",
              "    <tr>\n",
              "      <th>1</th>\n",
              "      <td>893</td>\n",
              "      <td>3</td>\n",
              "      <td>Wilkes, Mrs. James (Ellen Needs)</td>\n",
              "      <td>female</td>\n",
              "      <td>47.0</td>\n",
              "      <td>1</td>\n",
              "      <td>0</td>\n",
              "      <td>363272</td>\n",
              "      <td>7.0000</td>\n",
              "      <td>NaN</td>\n",
              "      <td>S</td>\n",
              "    </tr>\n",
              "    <tr>\n",
              "      <th>2</th>\n",
              "      <td>894</td>\n",
              "      <td>2</td>\n",
              "      <td>Myles, Mr. Thomas Francis</td>\n",
              "      <td>male</td>\n",
              "      <td>62.0</td>\n",
              "      <td>0</td>\n",
              "      <td>0</td>\n",
              "      <td>240276</td>\n",
              "      <td>9.6875</td>\n",
              "      <td>NaN</td>\n",
              "      <td>Q</td>\n",
              "    </tr>\n",
              "    <tr>\n",
              "      <th>3</th>\n",
              "      <td>895</td>\n",
              "      <td>3</td>\n",
              "      <td>Wirz, Mr. Albert</td>\n",
              "      <td>male</td>\n",
              "      <td>27.0</td>\n",
              "      <td>0</td>\n",
              "      <td>0</td>\n",
              "      <td>315154</td>\n",
              "      <td>8.6625</td>\n",
              "      <td>NaN</td>\n",
              "      <td>S</td>\n",
              "    </tr>\n",
              "    <tr>\n",
              "      <th>4</th>\n",
              "      <td>896</td>\n",
              "      <td>3</td>\n",
              "      <td>Hirvonen, Mrs. Alexander (Helga E Lindqvist)</td>\n",
              "      <td>female</td>\n",
              "      <td>22.0</td>\n",
              "      <td>1</td>\n",
              "      <td>1</td>\n",
              "      <td>3101298</td>\n",
              "      <td>12.2875</td>\n",
              "      <td>NaN</td>\n",
              "      <td>S</td>\n",
              "    </tr>\n",
              "  </tbody>\n",
              "</table>\n",
              "</div>"
            ],
            "text/plain": [
              "   PassengerId  Pclass  ... Cabin Embarked\n",
              "0          892       3  ...   NaN        Q\n",
              "1          893       3  ...   NaN        S\n",
              "2          894       2  ...   NaN        Q\n",
              "3          895       3  ...   NaN        S\n",
              "4          896       3  ...   NaN        S\n",
              "\n",
              "[5 rows x 11 columns]"
            ]
          },
          "metadata": {
            "tags": []
          },
          "execution_count": 2
        }
      ]
    },
    {
      "cell_type": "code",
      "metadata": {
        "id": "MSvicMCtQ7xz"
      },
      "source": [
        "all_features = pd.concat((train_data.iloc[:, 2:-1], test_data.iloc[:, 1:-1]))\n",
        "all_features['Pclass'] = all_features['Pclass'].apply(str)\n",
        "\n",
        "#del all_features['Cabin']\n",
        "del all_features['Name']\n",
        "del all_features['Ticket']"
      ],
      "execution_count": 3,
      "outputs": []
    },
    {
      "cell_type": "code",
      "metadata": {
        "colab": {
          "base_uri": "https://localhost:8080/"
        },
        "id": "tCglyFZ1a4ut",
        "outputId": "cc6c5ff2-91e3-4498-aac7-8468aef92e0f"
      },
      "source": [
        "print(all_features.shape)\n",
        "#print(all_features.to_string())"
      ],
      "execution_count": 4,
      "outputs": [
        {
          "output_type": "stream",
          "text": [
            "(1309, 7)\n"
          ],
          "name": "stdout"
        }
      ]
    },
    {
      "cell_type": "code",
      "metadata": {
        "colab": {
          "base_uri": "https://localhost:8080/"
        },
        "id": "oKmiRonTYSpk",
        "outputId": "8bffadcc-7679-44e4-bff1-63438332b71c"
      },
      "source": [
        "numeric_data = all_features.select_dtypes(exclude=['object'])\n",
        "categoric_data = all_features.select_dtypes(include=['object'])#.fillna(0)\n",
        "\n",
        "\n",
        "#Rescale with zero mean and unit variance\n",
        "numeric_data = numeric_data.replace(to_replace=np.nan, value=0)\n",
        "numeric_data = (numeric_data - numeric_data.mean())/numeric_data.std()\n",
        "\n",
        "\n",
        "#categoric_data.loc[categoric_data['Cabin'] != 0]\n",
        "categoric_data.loc[:, 'Cabin'] = categoric_data.loc[:,'Cabin'].str.slice(0,1)\n",
        "\n",
        "all_features = pd.concat([numeric_data, categoric_data], axis=1)\n",
        "\n",
        "\n",
        "print(all_features)"
      ],
      "execution_count": 5,
      "outputs": [
        {
          "output_type": "stream",
          "text": [
            "          Age     SibSp     Parch      Fare Pclass     Sex Cabin\n",
            "0   -0.106733  0.481104 -0.444829 -0.502831      3    male   NaN\n",
            "1    0.802831  0.481104 -0.444829  0.734597      1  female     C\n",
            "2    0.120658 -0.478904 -0.444829 -0.489787      3  female   NaN\n",
            "3    0.632288  0.481104 -0.444829  0.383209      1  female     C\n",
            "4    0.632288 -0.478904 -0.444829 -0.487371      3    male   NaN\n",
            "..        ...       ...       ...       ...    ...     ...   ...\n",
            "413 -1.357383 -0.478904 -0.444829 -0.487371      3    male   NaN\n",
            "414  0.859679 -0.478904 -0.444829  1.461531      1  female     C\n",
            "415  0.831255 -0.478904 -0.444829 -0.502831      3    male   NaN\n",
            "416 -1.357383 -0.478904 -0.444829 -0.487371      3    male   NaN\n",
            "417 -1.357383  0.481104  0.710492 -0.210867      3    male   NaN\n",
            "\n",
            "[1309 rows x 7 columns]\n"
          ],
          "name": "stdout"
        },
        {
          "output_type": "stream",
          "text": [
            "/usr/local/lib/python3.6/dist-packages/pandas/core/indexing.py:1781: SettingWithCopyWarning: \n",
            "A value is trying to be set on a copy of a slice from a DataFrame.\n",
            "Try using .loc[row_indexer,col_indexer] = value instead\n",
            "\n",
            "See the caveats in the documentation: https://pandas.pydata.org/pandas-docs/stable/user_guide/indexing.html#returning-a-view-versus-a-copy\n",
            "  self.obj[item_labels[indexer[info_axis]]] = value\n"
          ],
          "name": "stderr"
        }
      ]
    },
    {
      "cell_type": "code",
      "metadata": {
        "colab": {
          "base_uri": "https://localhost:8080/"
        },
        "id": "gWeN3EUsYv4Y",
        "outputId": "04b0dc41-05f9-4815-af5d-bcaf266e2bef"
      },
      "source": [
        "all_features = all_features.fillna(0)\n",
        "print(all_features)"
      ],
      "execution_count": 6,
      "outputs": [
        {
          "output_type": "stream",
          "text": [
            "          Age     SibSp     Parch      Fare Pclass     Sex Cabin\n",
            "0   -0.106733  0.481104 -0.444829 -0.502831      3    male     0\n",
            "1    0.802831  0.481104 -0.444829  0.734597      1  female     C\n",
            "2    0.120658 -0.478904 -0.444829 -0.489787      3  female     0\n",
            "3    0.632288  0.481104 -0.444829  0.383209      1  female     C\n",
            "4    0.632288 -0.478904 -0.444829 -0.487371      3    male     0\n",
            "..        ...       ...       ...       ...    ...     ...   ...\n",
            "413 -1.357383 -0.478904 -0.444829 -0.487371      3    male     0\n",
            "414  0.859679 -0.478904 -0.444829  1.461531      1  female     C\n",
            "415  0.831255 -0.478904 -0.444829 -0.502831      3    male     0\n",
            "416 -1.357383 -0.478904 -0.444829 -0.487371      3    male     0\n",
            "417 -1.357383  0.481104  0.710492 -0.210867      3    male     0\n",
            "\n",
            "[1309 rows x 7 columns]\n"
          ],
          "name": "stdout"
        }
      ]
    },
    {
      "cell_type": "code",
      "metadata": {
        "colab": {
          "base_uri": "https://localhost:8080/",
          "height": 245
        },
        "id": "uDZhQyCPYxSM",
        "outputId": "e459bae4-bb39-4320-d3ec-b2c0f62758e0"
      },
      "source": [
        "all_features = pd.get_dummies(all_features, dummy_na=True)\n",
        "\n",
        "print(all_features.shape)\n",
        "all_features.head()"
      ],
      "execution_count": 7,
      "outputs": [
        {
          "output_type": "stream",
          "text": [
            "(1309, 21)\n"
          ],
          "name": "stdout"
        },
        {
          "output_type": "execute_result",
          "data": {
            "text/html": [
              "<div>\n",
              "<style scoped>\n",
              "    .dataframe tbody tr th:only-of-type {\n",
              "        vertical-align: middle;\n",
              "    }\n",
              "\n",
              "    .dataframe tbody tr th {\n",
              "        vertical-align: top;\n",
              "    }\n",
              "\n",
              "    .dataframe thead th {\n",
              "        text-align: right;\n",
              "    }\n",
              "</style>\n",
              "<table border=\"1\" class=\"dataframe\">\n",
              "  <thead>\n",
              "    <tr style=\"text-align: right;\">\n",
              "      <th></th>\n",
              "      <th>Age</th>\n",
              "      <th>SibSp</th>\n",
              "      <th>Parch</th>\n",
              "      <th>Fare</th>\n",
              "      <th>Pclass_1</th>\n",
              "      <th>Pclass_2</th>\n",
              "      <th>Pclass_3</th>\n",
              "      <th>Pclass_nan</th>\n",
              "      <th>Sex_female</th>\n",
              "      <th>Sex_male</th>\n",
              "      <th>Sex_nan</th>\n",
              "      <th>Cabin_0</th>\n",
              "      <th>Cabin_A</th>\n",
              "      <th>Cabin_B</th>\n",
              "      <th>Cabin_C</th>\n",
              "      <th>Cabin_D</th>\n",
              "      <th>Cabin_E</th>\n",
              "      <th>Cabin_F</th>\n",
              "      <th>Cabin_G</th>\n",
              "      <th>Cabin_T</th>\n",
              "      <th>Cabin_nan</th>\n",
              "    </tr>\n",
              "  </thead>\n",
              "  <tbody>\n",
              "    <tr>\n",
              "      <th>0</th>\n",
              "      <td>-0.106733</td>\n",
              "      <td>0.481104</td>\n",
              "      <td>-0.444829</td>\n",
              "      <td>-0.502831</td>\n",
              "      <td>0</td>\n",
              "      <td>0</td>\n",
              "      <td>1</td>\n",
              "      <td>0</td>\n",
              "      <td>0</td>\n",
              "      <td>1</td>\n",
              "      <td>0</td>\n",
              "      <td>1</td>\n",
              "      <td>0</td>\n",
              "      <td>0</td>\n",
              "      <td>0</td>\n",
              "      <td>0</td>\n",
              "      <td>0</td>\n",
              "      <td>0</td>\n",
              "      <td>0</td>\n",
              "      <td>0</td>\n",
              "      <td>0</td>\n",
              "    </tr>\n",
              "    <tr>\n",
              "      <th>1</th>\n",
              "      <td>0.802831</td>\n",
              "      <td>0.481104</td>\n",
              "      <td>-0.444829</td>\n",
              "      <td>0.734597</td>\n",
              "      <td>1</td>\n",
              "      <td>0</td>\n",
              "      <td>0</td>\n",
              "      <td>0</td>\n",
              "      <td>1</td>\n",
              "      <td>0</td>\n",
              "      <td>0</td>\n",
              "      <td>0</td>\n",
              "      <td>0</td>\n",
              "      <td>0</td>\n",
              "      <td>1</td>\n",
              "      <td>0</td>\n",
              "      <td>0</td>\n",
              "      <td>0</td>\n",
              "      <td>0</td>\n",
              "      <td>0</td>\n",
              "      <td>0</td>\n",
              "    </tr>\n",
              "    <tr>\n",
              "      <th>2</th>\n",
              "      <td>0.120658</td>\n",
              "      <td>-0.478904</td>\n",
              "      <td>-0.444829</td>\n",
              "      <td>-0.489787</td>\n",
              "      <td>0</td>\n",
              "      <td>0</td>\n",
              "      <td>1</td>\n",
              "      <td>0</td>\n",
              "      <td>1</td>\n",
              "      <td>0</td>\n",
              "      <td>0</td>\n",
              "      <td>1</td>\n",
              "      <td>0</td>\n",
              "      <td>0</td>\n",
              "      <td>0</td>\n",
              "      <td>0</td>\n",
              "      <td>0</td>\n",
              "      <td>0</td>\n",
              "      <td>0</td>\n",
              "      <td>0</td>\n",
              "      <td>0</td>\n",
              "    </tr>\n",
              "    <tr>\n",
              "      <th>3</th>\n",
              "      <td>0.632288</td>\n",
              "      <td>0.481104</td>\n",
              "      <td>-0.444829</td>\n",
              "      <td>0.383209</td>\n",
              "      <td>1</td>\n",
              "      <td>0</td>\n",
              "      <td>0</td>\n",
              "      <td>0</td>\n",
              "      <td>1</td>\n",
              "      <td>0</td>\n",
              "      <td>0</td>\n",
              "      <td>0</td>\n",
              "      <td>0</td>\n",
              "      <td>0</td>\n",
              "      <td>1</td>\n",
              "      <td>0</td>\n",
              "      <td>0</td>\n",
              "      <td>0</td>\n",
              "      <td>0</td>\n",
              "      <td>0</td>\n",
              "      <td>0</td>\n",
              "    </tr>\n",
              "    <tr>\n",
              "      <th>4</th>\n",
              "      <td>0.632288</td>\n",
              "      <td>-0.478904</td>\n",
              "      <td>-0.444829</td>\n",
              "      <td>-0.487371</td>\n",
              "      <td>0</td>\n",
              "      <td>0</td>\n",
              "      <td>1</td>\n",
              "      <td>0</td>\n",
              "      <td>0</td>\n",
              "      <td>1</td>\n",
              "      <td>0</td>\n",
              "      <td>1</td>\n",
              "      <td>0</td>\n",
              "      <td>0</td>\n",
              "      <td>0</td>\n",
              "      <td>0</td>\n",
              "      <td>0</td>\n",
              "      <td>0</td>\n",
              "      <td>0</td>\n",
              "      <td>0</td>\n",
              "      <td>0</td>\n",
              "    </tr>\n",
              "  </tbody>\n",
              "</table>\n",
              "</div>"
            ],
            "text/plain": [
              "        Age     SibSp     Parch      Fare  ...  Cabin_F  Cabin_G  Cabin_T  Cabin_nan\n",
              "0 -0.106733  0.481104 -0.444829 -0.502831  ...        0        0        0          0\n",
              "1  0.802831  0.481104 -0.444829  0.734597  ...        0        0        0          0\n",
              "2  0.120658 -0.478904 -0.444829 -0.489787  ...        0        0        0          0\n",
              "3  0.632288  0.481104 -0.444829  0.383209  ...        0        0        0          0\n",
              "4  0.632288 -0.478904 -0.444829 -0.487371  ...        0        0        0          0\n",
              "\n",
              "[5 rows x 21 columns]"
            ]
          },
          "metadata": {
            "tags": []
          },
          "execution_count": 7
        }
      ]
    },
    {
      "cell_type": "markdown",
      "metadata": {
        "id": "UnQEvsI_XJUj"
      },
      "source": [
        "Organize the data so we can use it"
      ]
    },
    {
      "cell_type": "code",
      "metadata": {
        "id": "Dosr-o8iQ7vx"
      },
      "source": [
        "n_train = train_data.shape[0]\n",
        "train_features = all_features[:n_train].values\n",
        "test_features = all_features[n_train:].values\n",
        "train_labels = train_data.Survived.values.reshape((-1, 1))\n",
        "\n",
        "# I don't know why, but doing \"if train_labels == 1:\" resulted in everything becoming -10\n",
        "for i in range(train_labels.shape[0]):\n",
        "  if train_labels[i] > .5:\n",
        "    train_labels[i] = 10\n",
        "  else:\n",
        "    train_labels[i] = -10\n"
      ],
      "execution_count": 8,
      "outputs": []
    },
    {
      "cell_type": "code",
      "metadata": {
        "id": "Or_eLfKVu0Hh"
      },
      "source": [
        "def histogram(data):\n",
        "  plt.hist(data)\n",
        "  plt.xlabel('Dead vs Survived')\n",
        "  plt.ylabel('Quantity')\n",
        "  plt.show()"
      ],
      "execution_count": 9,
      "outputs": []
    },
    {
      "cell_type": "markdown",
      "metadata": {
        "id": "I64USTcKgD4O"
      },
      "source": [
        "**Randomly generated results**"
      ]
    },
    {
      "cell_type": "code",
      "metadata": {
        "colab": {
          "base_uri": "https://localhost:8080/",
          "height": 538
        },
        "id": "201MhBowQ7fe",
        "outputId": "142ecf8f-935d-45a3-cbc4-7e171e96c2ca"
      },
      "source": [
        "random_results = pd.DataFrame(np.random.randint(0,2,size=(test_data.shape[0], 1)), columns=[\"Survived\"])\n",
        "random_results.hist()\n",
        "random_submission = pd.concat([test_data['PassengerId'], random_results], axis=1)\n",
        "random_submission.to_csv('random_submission.csv', index=False)\n",
        "print(random_submission)"
      ],
      "execution_count": 10,
      "outputs": [
        {
          "output_type": "stream",
          "text": [
            "     PassengerId  Survived\n",
            "0            892         0\n",
            "1            893         0\n",
            "2            894         1\n",
            "3            895         0\n",
            "4            896         0\n",
            "..           ...       ...\n",
            "413         1305         0\n",
            "414         1306         0\n",
            "415         1307         0\n",
            "416         1308         0\n",
            "417         1309         1\n",
            "\n",
            "[418 rows x 2 columns]\n"
          ],
          "name": "stdout"
        },
        {
          "output_type": "display_data",
          "data": {
            "image/png": "[encoded data removed]",
            "text/plain": [
              "<Figure size 432x288 with 1 Axes>"
            ]
          },
          "metadata": {
            "tags": [],
            "needs_background": "light"
          }
        }
      ]
    },
    {
      "cell_type": "markdown",
      "metadata": {
        "id": "l-bTKQ01gLXA"
      },
      "source": [
        "**Basic regression model**"
      ]
    },
    {
      "cell_type": "code",
      "metadata": {
        "id": "EilUj3f7grAu"
      },
      "source": [
        "import torch.nn as nn\n",
        "import torch\n",
        "from torch.autograd import Variable\n",
        "\n",
        "epochs = 25\n",
        "inputDim = train_features.shape[1]\n",
        "outputDim = 1"
      ],
      "execution_count": 11,
      "outputs": []
    },
    {
      "cell_type": "code",
      "metadata": {
        "id": "FI2qtANCg6at"
      },
      "source": [
        "class BasicRegression(nn.Module):\n",
        "    def __init__(self, inputSize, outputSize):\n",
        "      super(BasicRegression, self).__init__()\n",
        "      self.linear = nn.Linear(inputSize, outputSize)\n",
        "\n",
        "    def forward(self, x):\n",
        "        out = self.linear(x)\n",
        "        return out\n",
        "\n",
        "\n",
        "\n",
        "basic_learningRate = 0.01 \n",
        "\n",
        "\n",
        "\n",
        "basic_regression_model = BasicRegression(inputDim, outputDim)\n",
        "\n",
        "basic_criterion = nn.MSELoss()\n",
        "basic_optimizer = torch.optim.SGD(basic_regression_model.parameters(), lr=basic_learningRate)\n",
        "\n",
        "basic_loss = []\n",
        "\n",
        "def train_basic_regression():\n",
        "    for epoch in range(epochs):\n",
        "    # Converting inputs and labels to Variable\n",
        "      inputs = Variable(torch.from_numpy(train_features)).float()\n",
        "      labels = Variable(torch.from_numpy(train_labels)).float()\n",
        "\n",
        "\n",
        "      # Clear gradient buffers because we don't want any gradient from previous epoch to carry forward, dont want to cummulate gradients\n",
        "      basic_optimizer.zero_grad()\n",
        "\n",
        "      # get output from the model, given the inputs\n",
        "      outputs = basic_regression_model(inputs)\n",
        "\n",
        "      # get loss for the predicted output\n",
        "      loss = basic_criterion(outputs, labels)\n",
        "      #print(loss)\n",
        "      # get gradients w.r.t to parameters\n",
        "      loss.backward()\n",
        "\n",
        "      # update parameters\n",
        "      basic_optimizer.step()\n",
        "      \n",
        "      basic_loss.append(loss.item() / n_train)\n",
        "      #print('epoch {}, loss {}'.format(epoch, loss.item()))\n",
        "\n",
        "\n"
      ],
      "execution_count": 12,
      "outputs": []
    },
    {
      "cell_type": "code",
      "metadata": {
        "colab": {
          "base_uri": "https://localhost:8080/",
          "height": 798
        },
        "id": "AD3voH8Srku3",
        "outputId": "97f837a5-6109-4019-ad17-dd079b87265a"
      },
      "source": [
        "train_basic_regression()\n",
        "\n",
        "# evaluate test error\n",
        "\n",
        "basic_regression_predictions = basic_regression_model(Variable(torch.from_numpy(test_features)).float())\n",
        "\n",
        "histogram(basic_regression_predictions.detach().numpy())\n",
        "\n",
        "\n",
        "\n",
        "split = 0\n",
        "basic_regression_predictions[basic_regression_predictions > split] = 1\n",
        "basic_regression_predictions[basic_regression_predictions <= split] = 0\n",
        "basic_regression_predictions = basic_regression_predictions.int()\n",
        "\n",
        "histogram(basic_regression_predictions.numpy())\n",
        "\n",
        "basic_regression_results = pd.DataFrame(basic_regression_predictions.numpy(), columns=[\"Survived\"])\n",
        "basic_regression_results = pd.concat([test_data['PassengerId'], basic_regression_results], axis=1)\n",
        "basic_regression_results.to_csv('basic_regression_results.csv', index=False)\n",
        "print(basic_regression_results)"
      ],
      "execution_count": 13,
      "outputs": [
        {
          "output_type": "display_data",
          "data": {
            "image/png": "[encoded data removed]",
            "text/plain": [
              "<Figure size 432x288 with 1 Axes>"
            ]
          },
          "metadata": {
            "tags": [],
            "needs_background": "light"
          }
        },
        {
          "output_type": "display_data",
          "data": {
            "image/png": "[encoded data removed]",
            "text/plain": [
              "<Figure size 432x288 with 1 Axes>"
            ]
          },
          "metadata": {
            "tags": [],
            "needs_background": "light"
          }
        },
        {
          "output_type": "stream",
          "text": [
            "     PassengerId  Survived\n",
            "0            892         0\n",
            "1            893         0\n",
            "2            894         0\n",
            "3            895         0\n",
            "4            896         0\n",
            "..           ...       ...\n",
            "413         1305         0\n",
            "414         1306         1\n",
            "415         1307         0\n",
            "416         1308         0\n",
            "417         1309         0\n",
            "\n",
            "[418 rows x 2 columns]\n"
          ],
          "name": "stdout"
        }
      ]
    },
    {
      "cell_type": "code",
      "metadata": {
        "id": "Wl9-5HtfhSQ8",
        "colab": {
          "base_uri": "https://localhost:8080/",
          "height": 798
        },
        "outputId": "2f0ece6d-e294-4350-8bb2-17b604df3575"
      },
      "source": [
        "class DeepRegression(nn.Module):\n",
        "    def __init__(self, inputSize, outputSize):\n",
        "      super(DeepRegression, self).__init__()\n",
        "      self.linear = nn.Linear(inputSize, outputSize)\n",
        "      h = int(inputSize / 2) + outputSize\n",
        "      self.model = nn.Sequential(\n",
        "          nn.Linear(inputSize, h),\n",
        "          nn.Tanh(),\n",
        "          nn.Linear(h, h),\n",
        "          nn.Tanh(),\n",
        "          nn.Linear(h, h),\n",
        "          nn.Tanh(),\n",
        "          nn.Linear(h, h),\n",
        "          nn.Tanh(),\n",
        "          nn.Linear(h, outputSize),\n",
        "          nn.Sigmoid()\n",
        "      )\n",
        "\n",
        "    def forward(self, x):\n",
        "        out = self.model(x)\n",
        "        return out\n",
        "\n",
        "\n",
        "\n",
        "deep_learningRate = 0.1 \n",
        "\n",
        "\n",
        "deep_loss = []\n",
        "\n",
        "deep_regression_model = DeepRegression(inputDim, outputDim)\n",
        "\n",
        "deep_criterion = nn.MSELoss()\n",
        "deep_optimizer = torch.optim.SGD(deep_regression_model.parameters(), lr=deep_learningRate)\n",
        "\n",
        "def train_deep_regression():\n",
        "    for epoch in range(epochs):\n",
        "    # Converting inputs and labels to Variable\n",
        "      inputs = Variable(torch.from_numpy(train_features)).float()\n",
        "      labels = Variable(torch.from_numpy(train_labels)).float()\n",
        "\n",
        "\n",
        "      # Clear gradient buffers because we don't want any gradient from previous epoch to carry forward, dont want to cummulate gradients\n",
        "      deep_optimizer.zero_grad()\n",
        "\n",
        "      # get output from the model, given the inputs\n",
        "      outputs = deep_regression_model(inputs)\n",
        "\n",
        "      # get loss for the predicted output\n",
        "      loss = deep_criterion(outputs, labels)\n",
        "      #print(loss)\n",
        "      # get gradients w.r.t to parameters\n",
        "      loss.backward()\n",
        "\n",
        "      # update parameters\n",
        "      deep_optimizer.step()\n",
        "\n",
        "      deep_loss.append(loss.item() / n_train)\n",
        "\n",
        "      #print('epoch {}, loss {}'.format(epoch, loss.item()))\n",
        "\n",
        "\n",
        "# evaluate test error\n",
        "train_deep_regression()\n",
        "deep_regression_predictions = deep_regression_model(Variable(torch.from_numpy(test_features)).float())\n",
        "\n",
        "\n",
        "histogram(deep_regression_predictions.detach().numpy())\n",
        "\n",
        "\n",
        "#split = deep_regression_predictions.mean()\n",
        "split = 0.5\n",
        "deep_regression_predictions[deep_regression_predictions > split] = 1\n",
        "deep_regression_predictions[deep_regression_predictions <= split] = 0\n",
        "deep_regression_predictions = deep_regression_predictions.int()\n",
        "\n",
        "\n",
        "histogram(deep_regression_predictions.numpy())\n",
        "\n",
        "\n",
        "\n",
        "deep_regression_results = pd.DataFrame(deep_regression_predictions.numpy(), columns=[\"Survived\"])\n",
        "deep_regression_results = pd.concat([test_data['PassengerId'], deep_regression_results], axis=1)\n",
        "deep_regression_results.to_csv('deep_regression_results.csv', index=False)\n",
        "print(deep_regression_results)"
      ],
      "execution_count": 14,
      "outputs": [
        {
          "output_type": "display_data",
          "data": {
            "image/png": "[encoded data removed]",
            "text/plain": [
              "<Figure size 432x288 with 1 Axes>"
            ]
          },
          "metadata": {
            "tags": [],
            "needs_background": "light"
          }
        },
        {
          "output_type": "display_data",
          "data": {
            "image/png": "[encoded data removed]",
            "text/plain": [
              "<Figure size 432x288 with 1 Axes>"
            ]
          },
          "metadata": {
            "tags": [],
            "needs_background": "light"
          }
        },
        {
          "output_type": "stream",
          "text": [
            "     PassengerId  Survived\n",
            "0            892         0\n",
            "1            893         0\n",
            "2            894         0\n",
            "3            895         0\n",
            "4            896         0\n",
            "..           ...       ...\n",
            "413         1305         0\n",
            "414         1306         0\n",
            "415         1307         0\n",
            "416         1308         0\n",
            "417         1309         0\n",
            "\n",
            "[418 rows x 2 columns]\n"
          ],
          "name": "stdout"
        }
      ]
    },
    {
      "cell_type": "code",
      "metadata": {
        "id": "70MbgjnOgfv5",
        "colab": {
          "base_uri": "https://localhost:8080/",
          "height": 297
        },
        "outputId": "3905ca11-71f4-45ed-b026-186557725233"
      },
      "source": [
        "\n",
        "fig = plt.figure(figsize=(6, 4))\n",
        "\n",
        "epochs_basic = range(len(basic_loss))\n",
        "epochs_deep = range(len(deep_loss))\n",
        "\n",
        "\n",
        "line0, = plt.plot(epochs_basic, basic_loss, '--b', LineWidth=2)\n",
        "line1, = plt.plot(epochs_deep, deep_loss, '--r', LineWidth=2)\n",
        "plt.xlabel('Epochs', FontSize=20)\n",
        "plt.ylabel('Loss', FontSize=20)\n",
        "plt.xticks(FontSize=16)\n",
        "plt.yticks(FontSize=16)\n",
        "plt.legend([line0, line1], ['Basic', '7-Layer'], fontsize=20)\n",
        "plt.tight_layout()\n",
        "plt.show()\n",
        "fig.savefig('compare_basic_deep.pdf', format='pdf', dpi=1200)"
      ],
      "execution_count": 15,
      "outputs": [
        {
          "output_type": "display_data",
          "data": {
            "image/png": "[encoded data removed]",
            "text/plain": [
              "<Figure size 432x288 with 1 Axes>"
            ]
          },
          "metadata": {
            "tags": [],
            "needs_background": "light"
          }
        }
      ]
    },
    {
      "cell_type": "code",
      "metadata": {
        "id": "MBuDl4nbgT7B"
      },
      "source": [
        ""
      ],
      "execution_count": 15,
      "outputs": []
    },
    {
      "cell_type": "code",
      "metadata": {
        "id": "y9_cZgxAgUs3"
      },
      "source": [
        ""
      ],
      "execution_count": 15,
      "outputs": []
    },
    {
      "cell_type": "code",
      "metadata": {
        "id": "Cn1HLSfAo-KL"
      },
      "source": [
        ""
      ],
      "execution_count": 15,
      "outputs": []
    },
    {
      "cell_type": "code",
      "metadata": {
        "id": "s8cwUqA7pA7j"
      },
      "source": [
        ""
      ],
      "execution_count": 15,
      "outputs": []
    },
    {
      "cell_type": "code",
      "metadata": {
        "id": "FlPrqpgGpFuQ"
      },
      "source": [
        ""
      ],
      "execution_count": 15,
      "outputs": []
    }
  ]
}