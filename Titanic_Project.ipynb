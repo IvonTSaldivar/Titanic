{
  "nbformat": 4,
  "nbformat_minor": 0,
  "metadata": {
    "colab": {
      "name": "Titanic Project.ipynb",
      "provenance": [],
      "collapsed_sections": []
    },
    "kernelspec": {
      "name": "python3",
      "display_name": "Python 3"
    }
  },
  "cells": [
    {
      "cell_type": "markdown",
      "metadata": {
        "id": "2LLd9fMZQts-"
      },
      "source": [
        "Ivon Saldivar  \n",
        "A02064927"
      ]
    },
    {
      "cell_type": "code",
      "metadata": {
        "id": "FHj8hfgrPOB6"
      },
      "source": [
        "%matplotlib inline\n",
        "import numpy as np\n",
        "import pandas as pd\n",
        "from sklearn import preprocessing\n",
        "import matplotlib.pyplot as plt\n"
      ],
      "execution_count": 377,
      "outputs": []
    },
    {
      "cell_type": "code",
      "metadata": {
        "colab": {
          "base_uri": "https://localhost:8080/",
          "height": 206
        },
        "id": "7pFC36TWQ6-R",
        "outputId": "1593b98f-8b2e-406d-9dee-e64f0e1fb846"
      },
      "source": [
        "train_data = pd.read_csv('train.csv')\n",
        "test_data = pd.read_csv('test.csv')\n",
        "\n",
        "train_analysis = train_data.copy(deep=True)\n",
        "\n",
        "\n",
        "train_data.tail()"
      ],
      "execution_count": 378,
      "outputs": [
        {
          "output_type": "execute_result",
          "data": {
            "text/html": [
              "<div>\n",
              "<style scoped>\n",
              "    .dataframe tbody tr th:only-of-type {\n",
              "        vertical-align: middle;\n",
              "    }\n",
              "\n",
              "    .dataframe tbody tr th {\n",
              "        vertical-align: top;\n",
              "    }\n",
              "\n",
              "    .dataframe thead th {\n",
              "        text-align: right;\n",
              "    }\n",
              "</style>\n",
              "<table border=\"1\" class=\"dataframe\">\n",
              "  <thead>\n",
              "    <tr style=\"text-align: right;\">\n",
              "      <th></th>\n",
              "      <th>PassengerId</th>\n",
              "      <th>Survived</th>\n",
              "      <th>Pclass</th>\n",
              "      <th>Name</th>\n",
              "      <th>Sex</th>\n",
              "      <th>Age</th>\n",
              "      <th>SibSp</th>\n",
              "      <th>Parch</th>\n",
              "      <th>Ticket</th>\n",
              "      <th>Fare</th>\n",
              "      <th>Cabin</th>\n",
              "      <th>Embarked</th>\n",
              "    </tr>\n",
              "  </thead>\n",
              "  <tbody>\n",
              "    <tr>\n",
              "      <th>886</th>\n",
              "      <td>887</td>\n",
              "      <td>0</td>\n",
              "      <td>2</td>\n",
              "      <td>Montvila, Rev. Juozas</td>\n",
              "      <td>male</td>\n",
              "      <td>27.0</td>\n",
              "      <td>0</td>\n",
              "      <td>0</td>\n",
              "      <td>211536</td>\n",
              "      <td>13.00</td>\n",
              "      <td>NaN</td>\n",
              "      <td>S</td>\n",
              "    </tr>\n",
              "    <tr>\n",
              "      <th>887</th>\n",
              "      <td>888</td>\n",
              "      <td>1</td>\n",
              "      <td>1</td>\n",
              "      <td>Graham, Miss. Margaret Edith</td>\n",
              "      <td>female</td>\n",
              "      <td>19.0</td>\n",
              "      <td>0</td>\n",
              "      <td>0</td>\n",
              "      <td>112053</td>\n",
              "      <td>30.00</td>\n",
              "      <td>B42</td>\n",
              "      <td>S</td>\n",
              "    </tr>\n",
              "    <tr>\n",
              "      <th>888</th>\n",
              "      <td>889</td>\n",
              "      <td>0</td>\n",
              "      <td>3</td>\n",
              "      <td>Johnston, Miss. Catherine Helen \"Carrie\"</td>\n",
              "      <td>female</td>\n",
              "      <td>NaN</td>\n",
              "      <td>1</td>\n",
              "      <td>2</td>\n",
              "      <td>W./C. 6607</td>\n",
              "      <td>23.45</td>\n",
              "      <td>NaN</td>\n",
              "      <td>S</td>\n",
              "    </tr>\n",
              "    <tr>\n",
              "      <th>889</th>\n",
              "      <td>890</td>\n",
              "      <td>1</td>\n",
              "      <td>1</td>\n",
              "      <td>Behr, Mr. Karl Howell</td>\n",
              "      <td>male</td>\n",
              "      <td>26.0</td>\n",
              "      <td>0</td>\n",
              "      <td>0</td>\n",
              "      <td>111369</td>\n",
              "      <td>30.00</td>\n",
              "      <td>C148</td>\n",
              "      <td>C</td>\n",
              "    </tr>\n",
              "    <tr>\n",
              "      <th>890</th>\n",
              "      <td>891</td>\n",
              "      <td>0</td>\n",
              "      <td>3</td>\n",
              "      <td>Dooley, Mr. Patrick</td>\n",
              "      <td>male</td>\n",
              "      <td>32.0</td>\n",
              "      <td>0</td>\n",
              "      <td>0</td>\n",
              "      <td>370376</td>\n",
              "      <td>7.75</td>\n",
              "      <td>NaN</td>\n",
              "      <td>Q</td>\n",
              "    </tr>\n",
              "  </tbody>\n",
              "</table>\n",
              "</div>"
            ],
            "text/plain": [
              "     PassengerId  Survived  Pclass  ...   Fare Cabin  Embarked\n",
              "886          887         0       2  ...  13.00   NaN         S\n",
              "887          888         1       1  ...  30.00   B42         S\n",
              "888          889         0       3  ...  23.45   NaN         S\n",
              "889          890         1       1  ...  30.00  C148         C\n",
              "890          891         0       3  ...   7.75   NaN         Q\n",
              "\n",
              "[5 rows x 12 columns]"
            ]
          },
          "metadata": {
            "tags": []
          },
          "execution_count": 378
        }
      ]
    },
    {
      "cell_type": "code",
      "metadata": {
        "id": "MSvicMCtQ7xz"
      },
      "source": [
        "all_features = pd.concat((train_data.iloc[:, 2:-1], test_data.iloc[:, 1:-1]))\n",
        "all_features['Pclass'] = all_features['Pclass'].apply(str)\n",
        "\n",
        "del all_features['Name']\n",
        "del all_features['Ticket']"
      ],
      "execution_count": 379,
      "outputs": []
    },
    {
      "cell_type": "code",
      "metadata": {
        "colab": {
          "base_uri": "https://localhost:8080/"
        },
        "id": "tCglyFZ1a4ut",
        "outputId": "353baf1f-ceda-4f9f-f3d3-ac163eabd98f"
      },
      "source": [
        "print(all_features.shape)"
      ],
      "execution_count": 380,
      "outputs": [
        {
          "output_type": "stream",
          "text": [
            "(1309, 7)\n"
          ],
          "name": "stdout"
        }
      ]
    },
    {
      "cell_type": "markdown",
      "metadata": {
        "id": "qDzOAMPRozpr"
      },
      "source": [
        "Normalizing and reformatting the data:  \n",
        "\n",
        "I'm not sure what's causing the error, but it doesn't seem to effect how well the program runs"
      ]
    },
    {
      "cell_type": "code",
      "metadata": {
        "colab": {
          "base_uri": "https://localhost:8080/"
        },
        "id": "oKmiRonTYSpk",
        "outputId": "1b577276-1851-4118-d276-e2cd11b65ed8"
      },
      "source": [
        "numeric_data = all_features.select_dtypes(exclude=['object'])\n",
        "categoric_data = all_features.select_dtypes(include=['object'])#.fillna(0)\n",
        "\n",
        "\n",
        "#Rescale with zero mean and unit variance\n",
        "numeric_data = numeric_data.replace(to_replace=np.nan, value=0)\n",
        "numeric_data = (numeric_data - numeric_data.mean())/numeric_data.std()\n",
        "\n",
        "\n",
        "# Converting cabin number to just the deck that the cabin is on, to make it easier to one-hot encode\n",
        "categoric_data.loc[:, 'Cabin'] = categoric_data.loc[:,'Cabin'].str.slice(0,1)\n",
        "\n",
        "all_features = pd.concat([numeric_data, categoric_data], axis=1)\n",
        "\n",
        "\n",
        "print(all_features)"
      ],
      "execution_count": 381,
      "outputs": [
        {
          "output_type": "stream",
          "text": [
            "          Age     SibSp     Parch      Fare Pclass     Sex Cabin\n",
            "0   -0.106733  0.481104 -0.444829 -0.502831      3    male   NaN\n",
            "1    0.802831  0.481104 -0.444829  0.734597      1  female     C\n",
            "2    0.120658 -0.478904 -0.444829 -0.489787      3  female   NaN\n",
            "3    0.632288  0.481104 -0.444829  0.383209      1  female     C\n",
            "4    0.632288 -0.478904 -0.444829 -0.487371      3    male   NaN\n",
            "..        ...       ...       ...       ...    ...     ...   ...\n",
            "413 -1.357383 -0.478904 -0.444829 -0.487371      3    male   NaN\n",
            "414  0.859679 -0.478904 -0.444829  1.461531      1  female     C\n",
            "415  0.831255 -0.478904 -0.444829 -0.502831      3    male   NaN\n",
            "416 -1.357383 -0.478904 -0.444829 -0.487371      3    male   NaN\n",
            "417 -1.357383  0.481104  0.710492 -0.210867      3    male   NaN\n",
            "\n",
            "[1309 rows x 7 columns]\n"
          ],
          "name": "stdout"
        },
        {
          "output_type": "stream",
          "text": [
            "/usr/local/lib/python3.6/dist-packages/pandas/core/indexing.py:1781: SettingWithCopyWarning: \n",
            "A value is trying to be set on a copy of a slice from a DataFrame.\n",
            "Try using .loc[row_indexer,col_indexer] = value instead\n",
            "\n",
            "See the caveats in the documentation: https://pandas.pydata.org/pandas-docs/stable/user_guide/indexing.html#returning-a-view-versus-a-copy\n",
            "  self.obj[item_labels[indexer[info_axis]]] = value\n"
          ],
          "name": "stderr"
        }
      ]
    },
    {
      "cell_type": "code",
      "metadata": {
        "colab": {
          "base_uri": "https://localhost:8080/"
        },
        "id": "gWeN3EUsYv4Y",
        "outputId": "01c9fd18-d0ac-41cf-e982-a9de14423b6b"
      },
      "source": [
        "all_features = all_features.fillna(0)\n",
        "print(all_features)"
      ],
      "execution_count": 382,
      "outputs": [
        {
          "output_type": "stream",
          "text": [
            "          Age     SibSp     Parch      Fare Pclass     Sex Cabin\n",
            "0   -0.106733  0.481104 -0.444829 -0.502831      3    male     0\n",
            "1    0.802831  0.481104 -0.444829  0.734597      1  female     C\n",
            "2    0.120658 -0.478904 -0.444829 -0.489787      3  female     0\n",
            "3    0.632288  0.481104 -0.444829  0.383209      1  female     C\n",
            "4    0.632288 -0.478904 -0.444829 -0.487371      3    male     0\n",
            "..        ...       ...       ...       ...    ...     ...   ...\n",
            "413 -1.357383 -0.478904 -0.444829 -0.487371      3    male     0\n",
            "414  0.859679 -0.478904 -0.444829  1.461531      1  female     C\n",
            "415  0.831255 -0.478904 -0.444829 -0.502831      3    male     0\n",
            "416 -1.357383 -0.478904 -0.444829 -0.487371      3    male     0\n",
            "417 -1.357383  0.481104  0.710492 -0.210867      3    male     0\n",
            "\n",
            "[1309 rows x 7 columns]\n"
          ],
          "name": "stdout"
        }
      ]
    },
    {
      "cell_type": "code",
      "metadata": {
        "colab": {
          "base_uri": "https://localhost:8080/",
          "height": 245
        },
        "id": "uDZhQyCPYxSM",
        "outputId": "f8f2aaea-2062-4d3c-bff3-9ee068c43624"
      },
      "source": [
        "all_features = pd.get_dummies(all_features, dummy_na=True)\n",
        "\n",
        "print(all_features.shape)\n",
        "all_features.head()"
      ],
      "execution_count": 383,
      "outputs": [
        {
          "output_type": "stream",
          "text": [
            "(1309, 21)\n"
          ],
          "name": "stdout"
        },
        {
          "output_type": "execute_result",
          "data": {
            "text/html": [
              "<div>\n",
              "<style scoped>\n",
              "    .dataframe tbody tr th:only-of-type {\n",
              "        vertical-align: middle;\n",
              "    }\n",
              "\n",
              "    .dataframe tbody tr th {\n",
              "        vertical-align: top;\n",
              "    }\n",
              "\n",
              "    .dataframe thead th {\n",
              "        text-align: right;\n",
              "    }\n",
              "</style>\n",
              "<table border=\"1\" class=\"dataframe\">\n",
              "  <thead>\n",
              "    <tr style=\"text-align: right;\">\n",
              "      <th></th>\n",
              "      <th>Age</th>\n",
              "      <th>SibSp</th>\n",
              "      <th>Parch</th>\n",
              "      <th>Fare</th>\n",
              "      <th>Pclass_1</th>\n",
              "      <th>Pclass_2</th>\n",
              "      <th>Pclass_3</th>\n",
              "      <th>Pclass_nan</th>\n",
              "      <th>Sex_female</th>\n",
              "      <th>Sex_male</th>\n",
              "      <th>Sex_nan</th>\n",
              "      <th>Cabin_0</th>\n",
              "      <th>Cabin_A</th>\n",
              "      <th>Cabin_B</th>\n",
              "      <th>Cabin_C</th>\n",
              "      <th>Cabin_D</th>\n",
              "      <th>Cabin_E</th>\n",
              "      <th>Cabin_F</th>\n",
              "      <th>Cabin_G</th>\n",
              "      <th>Cabin_T</th>\n",
              "      <th>Cabin_nan</th>\n",
              "    </tr>\n",
              "  </thead>\n",
              "  <tbody>\n",
              "    <tr>\n",
              "      <th>0</th>\n",
              "      <td>-0.106733</td>\n",
              "      <td>0.481104</td>\n",
              "      <td>-0.444829</td>\n",
              "      <td>-0.502831</td>\n",
              "      <td>0</td>\n",
              "      <td>0</td>\n",
              "      <td>1</td>\n",
              "      <td>0</td>\n",
              "      <td>0</td>\n",
              "      <td>1</td>\n",
              "      <td>0</td>\n",
              "      <td>1</td>\n",
              "      <td>0</td>\n",
              "      <td>0</td>\n",
              "      <td>0</td>\n",
              "      <td>0</td>\n",
              "      <td>0</td>\n",
              "      <td>0</td>\n",
              "      <td>0</td>\n",
              "      <td>0</td>\n",
              "      <td>0</td>\n",
              "    </tr>\n",
              "    <tr>\n",
              "      <th>1</th>\n",
              "      <td>0.802831</td>\n",
              "      <td>0.481104</td>\n",
              "      <td>-0.444829</td>\n",
              "      <td>0.734597</td>\n",
              "      <td>1</td>\n",
              "      <td>0</td>\n",
              "      <td>0</td>\n",
              "      <td>0</td>\n",
              "      <td>1</td>\n",
              "      <td>0</td>\n",
              "      <td>0</td>\n",
              "      <td>0</td>\n",
              "      <td>0</td>\n",
              "      <td>0</td>\n",
              "      <td>1</td>\n",
              "      <td>0</td>\n",
              "      <td>0</td>\n",
              "      <td>0</td>\n",
              "      <td>0</td>\n",
              "      <td>0</td>\n",
              "      <td>0</td>\n",
              "    </tr>\n",
              "    <tr>\n",
              "      <th>2</th>\n",
              "      <td>0.120658</td>\n",
              "      <td>-0.478904</td>\n",
              "      <td>-0.444829</td>\n",
              "      <td>-0.489787</td>\n",
              "      <td>0</td>\n",
              "      <td>0</td>\n",
              "      <td>1</td>\n",
              "      <td>0</td>\n",
              "      <td>1</td>\n",
              "      <td>0</td>\n",
              "      <td>0</td>\n",
              "      <td>1</td>\n",
              "      <td>0</td>\n",
              "      <td>0</td>\n",
              "      <td>0</td>\n",
              "      <td>0</td>\n",
              "      <td>0</td>\n",
              "      <td>0</td>\n",
              "      <td>0</td>\n",
              "      <td>0</td>\n",
              "      <td>0</td>\n",
              "    </tr>\n",
              "    <tr>\n",
              "      <th>3</th>\n",
              "      <td>0.632288</td>\n",
              "      <td>0.481104</td>\n",
              "      <td>-0.444829</td>\n",
              "      <td>0.383209</td>\n",
              "      <td>1</td>\n",
              "      <td>0</td>\n",
              "      <td>0</td>\n",
              "      <td>0</td>\n",
              "      <td>1</td>\n",
              "      <td>0</td>\n",
              "      <td>0</td>\n",
              "      <td>0</td>\n",
              "      <td>0</td>\n",
              "      <td>0</td>\n",
              "      <td>1</td>\n",
              "      <td>0</td>\n",
              "      <td>0</td>\n",
              "      <td>0</td>\n",
              "      <td>0</td>\n",
              "      <td>0</td>\n",
              "      <td>0</td>\n",
              "    </tr>\n",
              "    <tr>\n",
              "      <th>4</th>\n",
              "      <td>0.632288</td>\n",
              "      <td>-0.478904</td>\n",
              "      <td>-0.444829</td>\n",
              "      <td>-0.487371</td>\n",
              "      <td>0</td>\n",
              "      <td>0</td>\n",
              "      <td>1</td>\n",
              "      <td>0</td>\n",
              "      <td>0</td>\n",
              "      <td>1</td>\n",
              "      <td>0</td>\n",
              "      <td>1</td>\n",
              "      <td>0</td>\n",
              "      <td>0</td>\n",
              "      <td>0</td>\n",
              "      <td>0</td>\n",
              "      <td>0</td>\n",
              "      <td>0</td>\n",
              "      <td>0</td>\n",
              "      <td>0</td>\n",
              "      <td>0</td>\n",
              "    </tr>\n",
              "  </tbody>\n",
              "</table>\n",
              "</div>"
            ],
            "text/plain": [
              "        Age     SibSp     Parch      Fare  ...  Cabin_F  Cabin_G  Cabin_T  Cabin_nan\n",
              "0 -0.106733  0.481104 -0.444829 -0.502831  ...        0        0        0          0\n",
              "1  0.802831  0.481104 -0.444829  0.734597  ...        0        0        0          0\n",
              "2  0.120658 -0.478904 -0.444829 -0.489787  ...        0        0        0          0\n",
              "3  0.632288  0.481104 -0.444829  0.383209  ...        0        0        0          0\n",
              "4  0.632288 -0.478904 -0.444829 -0.487371  ...        0        0        0          0\n",
              "\n",
              "[5 rows x 21 columns]"
            ]
          },
          "metadata": {
            "tags": []
          },
          "execution_count": 383
        }
      ]
    },
    {
      "cell_type": "markdown",
      "metadata": {
        "id": "UnQEvsI_XJUj"
      },
      "source": [
        "Organize the data so we can use it"
      ]
    },
    {
      "cell_type": "code",
      "metadata": {
        "id": "Dosr-o8iQ7vx"
      },
      "source": [
        "n_train = train_data.shape[0]\n",
        "train_features = all_features[:n_train].values\n",
        "test_features = all_features[n_train:].values\n",
        "train_labels = train_data.Survived.values.reshape((-1, 1))\n",
        "\n",
        "# Reformatting the labels so that -10 means \"did not survive\" and 10 means \"survived\"\n",
        "# Just makes it easier to interpret the results of the models\n",
        "for i in range(train_labels.shape[0]):\n",
        "  if train_labels[i] > .5:\n",
        "    train_labels[i] = 10\n",
        "  else:\n",
        "    train_labels[i] = -10\n"
      ],
      "execution_count": 384,
      "outputs": []
    },
    {
      "cell_type": "markdown",
      "metadata": {
        "id": "tfDk2eLEpqgl"
      },
      "source": [
        "A histogram function to get a snapshot of the results of the models"
      ]
    },
    {
      "cell_type": "code",
      "metadata": {
        "id": "Or_eLfKVu0Hh"
      },
      "source": [
        "def histogram(data):\n",
        "  plt.hist(data)\n",
        "  plt.xlabel('Dead vs Survived')\n",
        "  plt.ylabel('Quantity')\n",
        "  plt.show()"
      ],
      "execution_count": 385,
      "outputs": []
    },
    {
      "cell_type": "markdown",
      "metadata": {
        "id": "I64USTcKgD4O"
      },
      "source": [
        "**Randomly generated results as a baseline**"
      ]
    },
    {
      "cell_type": "code",
      "metadata": {
        "colab": {
          "base_uri": "https://localhost:8080/",
          "height": 538
        },
        "id": "201MhBowQ7fe",
        "outputId": "080c8360-0ec6-48d9-8bf9-15448188762a"
      },
      "source": [
        "random_results = pd.DataFrame(np.random.randint(0,2,size=(test_data.shape[0], 1)), columns=[\"Survived\"])\n",
        "random_results.hist()\n",
        "random_submission = pd.concat([test_data['PassengerId'], random_results], axis=1)\n",
        "random_submission.to_csv('random_submission.csv', index=False)\n",
        "print(random_submission)"
      ],
      "execution_count": 386,
      "outputs": [
        {
          "output_type": "stream",
          "text": [
            "     PassengerId  Survived\n",
            "0            892         1\n",
            "1            893         1\n",
            "2            894         0\n",
            "3            895         1\n",
            "4            896         1\n",
            "..           ...       ...\n",
            "413         1305         0\n",
            "414         1306         0\n",
            "415         1307         1\n",
            "416         1308         0\n",
            "417         1309         0\n",
            "\n",
            "[418 rows x 2 columns]\n"
          ],
          "name": "stdout"
        },
        {
          "output_type": "display_data",
          "data": {
            "image/png": "[encoded data removed]",
            "text/plain": [
              "<Figure size 432x288 with 1 Axes>"
            ]
          },
          "metadata": {
            "tags": [],
            "needs_background": "light"
          }
        }
      ]
    },
    {
      "cell_type": "markdown",
      "metadata": {
        "id": "gk5YjvSnnsDy"
      },
      "source": [
        "**No survivors as baseline**"
      ]
    },
    {
      "cell_type": "code",
      "metadata": {
        "colab": {
          "base_uri": "https://localhost:8080/",
          "height": 281
        },
        "id": "Oy00hS3wqxMr",
        "outputId": "f71b6575-513e-4955-c17f-56796ba9588e"
      },
      "source": [
        "all_dead_results = pd.DataFrame(np.random.randint(0,1,size=(test_data.shape[0], 1)), columns=[\"Survived\"])\n",
        "all_dead_results.hist()\n",
        "all_dead_submission = pd.concat([test_data['PassengerId'], all_dead_results], axis=1)\n",
        "all_dead_submission.to_csv('all_dead_submission.csv', index=False)"
      ],
      "execution_count": 387,
      "outputs": [
        {
          "output_type": "display_data",
          "data": {
            "image/png": "[encoded data removed]",
            "text/plain": [
              "<Figure size 432x288 with 1 Axes>"
            ]
          },
          "metadata": {
            "tags": [],
            "needs_background": "light"
          }
        }
      ]
    },
    {
      "cell_type": "markdown",
      "metadata": {
        "id": "l-bTKQ01gLXA"
      },
      "source": [
        "**Basic regression model**"
      ]
    },
    {
      "cell_type": "code",
      "metadata": {
        "id": "EilUj3f7grAu"
      },
      "source": [
        "import torch.nn as nn\n",
        "import torch\n",
        "from torch.autograd import Variable\n",
        "\n",
        "epochs = 100\n",
        "inputDim = train_features.shape[1]\n",
        "outputDim = 1"
      ],
      "execution_count": 388,
      "outputs": []
    },
    {
      "cell_type": "code",
      "metadata": {
        "id": "FI2qtANCg6at"
      },
      "source": [
        "class BasicRegression(nn.Module):\n",
        "    def __init__(self, inputSize, outputSize):\n",
        "      super(BasicRegression, self).__init__()\n",
        "      self.linear = nn.Linear(inputSize, outputSize)\n",
        "\n",
        "    def forward(self, x):\n",
        "        out = self.linear(x)\n",
        "        return out\n",
        "\n",
        "\n",
        "basic_learningRate = 0.01 \n",
        "\n",
        "basic_regression_model = BasicRegression(inputDim, outputDim)\n",
        "\n",
        "basic_criterion = nn.MSELoss()\n",
        "basic_optimizer = torch.optim.SGD(basic_regression_model.parameters(), lr=basic_learningRate)\n",
        "\n",
        "basic_loss = []\n",
        "\n",
        "def train_basic_regression():\n",
        "    for epoch in range(epochs):\n",
        "    # Converting inputs and labels to Variable\n",
        "      inputs = Variable(torch.from_numpy(train_features)).float()\n",
        "      labels = Variable(torch.from_numpy(train_labels)).float()\n",
        "\n",
        "\n",
        "      # Clear gradient buffers because we don't want any gradient from previous epoch to carry forward, dont want to cummulate gradients\n",
        "      basic_optimizer.zero_grad()\n",
        "\n",
        "      # get output from the model, given the inputs\n",
        "      outputs = basic_regression_model(inputs)\n",
        "\n",
        "      # get loss for the predicted output\n",
        "      loss = basic_criterion(outputs, labels)\n",
        "      loss.backward()\n",
        "\n",
        "      # update parameters\n",
        "      basic_optimizer.step()\n",
        "      \n",
        "      basic_loss.append(loss.item() / n_train)\n",
        "\n",
        "\n"
      ],
      "execution_count": 389,
      "outputs": []
    },
    {
      "cell_type": "code",
      "metadata": {
        "colab": {
          "base_uri": "https://localhost:8080/",
          "height": 798
        },
        "id": "AD3voH8Srku3",
        "outputId": "2ce64deb-2475-4392-a9f1-9783c5af5327"
      },
      "source": [
        "train_basic_regression()\n",
        "\n",
        "# evaluate test error\n",
        "\n",
        "basic_regression_predictions = basic_regression_model(Variable(torch.from_numpy(test_features)).float())\n",
        "\n",
        "histogram(basic_regression_predictions.detach().numpy())\n",
        "\n",
        "\n",
        "\n",
        "split = 0\n",
        "basic_regression_predictions[basic_regression_predictions > split] = 1\n",
        "basic_regression_predictions[basic_regression_predictions <= split] = 0\n",
        "basic_regression_predictions = basic_regression_predictions.int()\n",
        "\n",
        "histogram(basic_regression_predictions.numpy())\n",
        "\n",
        "basic_regression_results = pd.DataFrame(basic_regression_predictions.numpy(), columns=[\"Survived\"])\n",
        "basic_regression_results = pd.concat([test_data['PassengerId'], basic_regression_results], axis=1)\n",
        "basic_regression_results.to_csv('basic_regression_results.csv', index=False)\n",
        "print(basic_regression_results)"
      ],
      "execution_count": 390,
      "outputs": [
        {
          "output_type": "display_data",
          "data": {
            "image/png": "[encoded data removed]",
            "text/plain": [
              "<Figure size 432x288 with 1 Axes>"
            ]
          },
          "metadata": {
            "tags": [],
            "needs_background": "light"
          }
        },
        {
          "output_type": "display_data",
          "data": {
            "image/png": "[encoded data removed]",
            "text/plain": [
              "<Figure size 432x288 with 1 Axes>"
            ]
          },
          "metadata": {
            "tags": [],
            "needs_background": "light"
          }
        },
        {
          "output_type": "stream",
          "text": [
            "     PassengerId  Survived\n",
            "0            892         0\n",
            "1            893         0\n",
            "2            894         0\n",
            "3            895         0\n",
            "4            896         0\n",
            "..           ...       ...\n",
            "413         1305         0\n",
            "414         1306         1\n",
            "415         1307         0\n",
            "416         1308         0\n",
            "417         1309         0\n",
            "\n",
            "[418 rows x 2 columns]\n"
          ],
          "name": "stdout"
        }
      ]
    },
    {
      "cell_type": "code",
      "metadata": {
        "id": "Wl9-5HtfhSQ8",
        "colab": {
          "base_uri": "https://localhost:8080/",
          "height": 541
        },
        "outputId": "fe9be10a-751c-4694-eba9-69a140bcdb6c"
      },
      "source": [
        "class DeepRegression(nn.Module):\n",
        "    def __init__(self, inputSize, outputSize):\n",
        "      super(DeepRegression, self).__init__()\n",
        "      self.linear = nn.Linear(inputSize, outputSize)\n",
        "      h = int(inputSize / 2) + outputSize\n",
        "      self.model = nn.Sequential(\n",
        "          nn.Linear(inputSize, h),\n",
        "          nn.Tanh(),\n",
        "          nn.Linear(h, h),\n",
        "          nn.Tanh(),\n",
        "          nn.Linear(h, h),\n",
        "          nn.Tanh(),\n",
        "          nn.Linear(h, h),\n",
        "          nn.Tanh(),\n",
        "          nn.Linear(h, outputSize)\n",
        "#          nn.Sigmoid()\n",
        "      )\n",
        "\n",
        "    def forward(self, x):\n",
        "        out = self.model(x)\n",
        "        return out\n",
        "\n",
        "\n",
        "\n",
        "deep_learningRate = 0.01 \n",
        "\n",
        "\n",
        "deep_loss = []\n",
        "\n",
        "deep_regression_model = DeepRegression(inputDim, outputDim)\n",
        "\n",
        "\n",
        "deep_criterion = nn.MSELoss()\n",
        "deep_optimizer = torch.optim.Adam(deep_regression_model.parameters(), lr=deep_learningRate)\n",
        "\n",
        "def train_deep_regression():\n",
        "    for epoch in range(epochs):\n",
        "    # Converting inputs and labels to Variable\n",
        "      inputs = Variable(torch.from_numpy(train_features)).float()\n",
        "      labels = Variable(torch.from_numpy(train_labels)).float()\n",
        "\n",
        "\n",
        "      # Clear gradient buffers because we don't want any gradient from previous epoch to carry forward, dont want to cummulate gradients\n",
        "      deep_optimizer.zero_grad()\n",
        "\n",
        "      # get output from the model, given the inputs\n",
        "      outputs = deep_regression_model(inputs)\n",
        "\n",
        "      # get loss for the predicted output\n",
        "      loss = deep_criterion(outputs, labels)\n",
        "      loss.backward()\n",
        "\n",
        "      # update parameters\n",
        "      deep_optimizer.step()\n",
        "\n",
        "      deep_loss.append(loss.item() / n_train)\n",
        "\n",
        "      #print('epoch {}, loss {}'.format(epoch, loss.item()))\n",
        "\n",
        "\n",
        "# evaluate test error\n",
        "train_deep_regression()\n",
        "deep_regression_predictions = deep_regression_model(Variable(torch.from_numpy(test_features)).float())\n",
        "\n",
        "\n",
        "histogram(deep_regression_predictions.detach().numpy())\n",
        "\n",
        "\n",
        "#split = deep_regression_predictions.mean()\n",
        "split = 0.5\n",
        "deep_regression_predictions[deep_regression_predictions > split] = 1\n",
        "deep_regression_predictions[deep_regression_predictions <= split] = 0\n",
        "deep_regression_predictions = deep_regression_predictions.int()\n",
        "\n",
        "\n",
        "histogram(deep_regression_predictions.numpy())\n",
        "\n",
        "\n",
        "\n",
        "deep_regression_results = pd.DataFrame(deep_regression_predictions.numpy(), columns=[\"Survived\"])\n",
        "deep_regression_results = pd.concat([test_data['PassengerId'], deep_regression_results], axis=1)\n",
        "deep_regression_results.to_csv('deep_regression_results.csv', index=False)"
      ],
      "execution_count": 391,
      "outputs": [
        {
          "output_type": "display_data",
          "data": {
            "image/png": "[encoded data removed]",
            "text/plain": [
              "<Figure size 432x288 with 1 Axes>"
            ]
          },
          "metadata": {
            "tags": [],
            "needs_background": "light"
          }
        },
        {
          "output_type": "display_data",
          "data": {
            "image/png": "[encoded data removed]",
            "text/plain": [
              "<Figure size 432x288 with 1 Axes>"
            ]
          },
          "metadata": {
            "tags": [],
            "needs_background": "light"
          }
        }
      ]
    },
    {
      "cell_type": "markdown",
      "metadata": {
        "id": "HA8vFL4AnW2B"
      },
      "source": [
        "Plotting the loss functions for the models."
      ]
    },
    {
      "cell_type": "code",
      "metadata": {
        "id": "70MbgjnOgfv5",
        "colab": {
          "base_uri": "https://localhost:8080/",
          "height": 297
        },
        "outputId": "0e8e05f4-f8bb-4e3d-e68a-3cf188ee0280"
      },
      "source": [
        "\n",
        "fig = plt.figure(figsize=(6, 4))\n",
        "\n",
        "epochs_basic = range(len(basic_loss))\n",
        "epochs_deep = range(len(deep_loss))\n",
        "\n",
        "\n",
        "line0, = plt.plot(epochs_basic, basic_loss, '--b', LineWidth=2)\n",
        "line1, = plt.plot(epochs_deep, deep_loss, '--r', LineWidth=2)\n",
        "plt.xlabel('Epochs', FontSize=20)\n",
        "plt.ylabel('Loss', FontSize=20)\n",
        "plt.xticks(FontSize=16)\n",
        "plt.yticks(FontSize=16)\n",
        "plt.legend([line0, line1], ['Basic', '5-Layer'], fontsize=20)\n",
        "plt.tight_layout()\n",
        "plt.show()\n",
        "fig.savefig('compare_basic_deep.pdf', format='pdf', dpi=1200)"
      ],
      "execution_count": 392,
      "outputs": [
        {
          "output_type": "display_data",
          "data": {
            "image/png": "[encoded data removed]",
            "text/plain": [
              "<Figure size 432x288 with 1 Axes>"
            ]
          },
          "metadata": {
            "tags": [],
            "needs_background": "light"
          }
        }
      ]
    },
    {
      "cell_type": "markdown",
      "metadata": {
        "id": "xURiyE_S1ezK"
      },
      "source": [
        "Here I extracted some information from the training data, although not everything I extracted is still listed."
      ]
    },
    {
      "cell_type": "code",
      "metadata": {
        "id": "MBuDl4nbgT7B",
        "colab": {
          "base_uri": "https://localhost:8080/"
        },
        "outputId": "6894b1b6-83a4-4055-e991-3a7f8ea2344c"
      },
      "source": [
        "#train_analysis = pd.DataFrame(train_data.numpy(), columns = [\"Survived\"])\n",
        "train_analysis = train_data.copy(deep=True)\n",
        "del train_analysis['Name']\n",
        "del train_analysis['PassengerId']\n",
        "del train_analysis['Ticket']\n",
        "train_analysis.loc[:, 'Cabin'] = train_analysis.loc[:,'Cabin'].str.slice(0,1)\n",
        "\n",
        "femaleCount = train_analysis[train_analysis['Sex'] == \"female\"].count()[1]\n",
        "femaleSurvived = train_analysis[(train_analysis['Sex'] == \"female\") & (train_analysis[\"Survived\"] > 0)].count()[1]\n",
        "print(\"Of the {} women, {} survived.\".format(femaleCount, femaleSurvived));\n",
        "\n",
        "\n",
        "maleCount = train_analysis[train_analysis['Sex'] == \"male\"].count()[1]\n",
        "maleSurvived = train_analysis[(train_analysis['Sex'] == \"male\") & (train_analysis[\"Survived\"] > 0)].count()[1]\n",
        "print(\"Of the {} men, {} survived.\".format(maleCount, maleSurvived));\n",
        "\n",
        "\n"
      ],
      "execution_count": 393,
      "outputs": [
        {
          "output_type": "stream",
          "text": [
            "Of the 314 women, 233 survived.\n",
            "Of the 577 men, 109 survived.\n"
          ],
          "name": "stdout"
        }
      ]
    },
    {
      "cell_type": "code",
      "metadata": {
        "id": "y9_cZgxAgUs3"
      },
      "source": [
        ""
      ],
      "execution_count": 393,
      "outputs": []
    },
    {
      "cell_type": "code",
      "metadata": {
        "id": "Cn1HLSfAo-KL"
      },
      "source": [
        ""
      ],
      "execution_count": 393,
      "outputs": []
    },
    {
      "cell_type": "code",
      "metadata": {
        "id": "s8cwUqA7pA7j"
      },
      "source": [
        ""
      ],
      "execution_count": 393,
      "outputs": []
    },
    {
      "cell_type": "code",
      "metadata": {
        "id": "FlPrqpgGpFuQ"
      },
      "source": [
        ""
      ],
      "execution_count": 393,
      "outputs": []
    }
  ]
}